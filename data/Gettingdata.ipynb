{
 "cells": [
  {
   "cell_type": "code",
   "execution_count": 1,
   "id": "a929bc2c-a48c-4dcf-9269-7db1645d0471",
   "metadata": {},
   "outputs": [
    {
     "name": "stdout",
     "output_type": "stream",
     "text": [
      "pip 21.0.1 from /shared/centos7/anaconda3/2021.05/lib/python3.8/site-packages/pip (python 3.8)\n"
     ]
    }
   ],
   "source": [
    "!pip --version"
   ]
  },
  {
   "cell_type": "code",
   "execution_count": 2,
   "id": "3754eff7-9c3d-4174-9a36-5cfed0f57be9",
   "metadata": {},
   "outputs": [
    {
     "name": "stdout",
     "output_type": "stream",
     "text": [
      "Defaulting to user installation because normal site-packages is not writeable\n",
      "Requirement already satisfied: langid in ./.local/lib/python3.8/site-packages (1.1.6)\n",
      "Requirement already satisfied: numpy in /shared/centos7/anaconda3/2021.05/lib/python3.8/site-packages (from langid) (1.20.1)\n"
     ]
    }
   ],
   "source": [
    "# Installing the langid library for language identification\n",
    "\n",
    "!pip install langid"
   ]
  },
  {
   "cell_type": "code",
   "execution_count": null,
   "id": "1d8206b5-c1a9-4730-a7f1-8dd45e3e42a2",
   "metadata": {},
   "outputs": [],
   "source": [
    "import langid  \n",
    "import pandas as pd \n",
    "import json  \n",
    "from bs4 import BeautifulSoup, Comment  \n",
    "import requests  \n",
    "import threading  "
   ]
  },
  {
   "cell_type": "code",
   "execution_count": 6,
   "id": "f2e715fd-ad3f-4d4d-834f-c2695ae94ee4",
   "metadata": {},
   "outputs": [],
   "source": [
    "# Loading the dataset containing URLs and their categories\n",
    "\n",
    "df = pd.read_csv(\"URL Classification.csv\")"
   ]
  },
  {
   "cell_type": "code",
   "execution_count": 11,
   "id": "144e0eb0-7a4f-4ad0-b8a0-241d5ca50893",
   "metadata": {},
   "outputs": [],
   "source": [
    "# Dropping rows where the category is labeled as \"Adult\"\n",
    "\n",
    "i = df[(df.Adult==\"Adult\")].index\n",
    "df = df.drop(i)"
   ]
  },
  {
   "cell_type": "code",
   "execution_count": 15,
   "id": "27c62856-0a40-4cd1-a03b-7908a2c6e418",
   "metadata": {},
   "outputs": [
    {
     "data": {
      "text/plain": [
       "array(['Arts', 'Business', 'Computers', 'Games', 'Health', 'Home', 'Kids',\n",
       "       'News', 'Recreation', 'Reference', 'Science', 'Shopping',\n",
       "       'Society', 'Sports'], dtype=object)"
      ]
     },
     "execution_count": 15,
     "metadata": {},
     "output_type": "execute_result"
    }
   ],
   "source": [
    "# Checking the unique categories in the dataset\n",
    "\n",
    "df.Adult.unique()"
   ]
  },
  {
   "cell_type": "code",
   "execution_count": 16,
   "id": "d2150f36-be90-428e-bd87-79c0b84c97ef",
   "metadata": {},
   "outputs": [
    {
     "data": {
      "text/plain": [
       "4582959"
      ]
     },
     "execution_count": 16,
     "metadata": {},
     "output_type": "execute_result"
    }
   ],
   "source": [
    "# Total number of elements in the dataset\n",
    "\n",
    "df.size"
   ]
  },
  {
   "cell_type": "code",
   "execution_count": 17,
   "id": "a57769fb-e482-411f-b088-17c9f6d4d904",
   "metadata": {},
   "outputs": [
    {
     "data": {
      "text/plain": [
       "1527653"
      ]
     },
     "execution_count": 17,
     "metadata": {},
     "output_type": "execute_result"
    }
   ],
   "source": [
    "# Total number of rows in the dataset\n",
    "\n",
    "len(df.index)"
   ]
  },
  {
   "cell_type": "code",
   "execution_count": 18,
   "id": "9ac22deb-3b18-4fe1-9b15-0984800cee0f",
   "metadata": {},
   "outputs": [],
   "source": [
    "# Renaming columns for better readability\n",
    "\n",
    "df = df.rename(columns={'http://www.liquidgeneration.com/': \"URL\", \"Adult\": \"category\"})"
   ]
  },
  {
   "cell_type": "code",
   "execution_count": 19,
   "id": "62f8da84-de04-48f5-8241-5e1d9ec6c20d",
   "metadata": {},
   "outputs": [],
   "source": [
    "# Defining custom headers for HTTP requests\n",
    "\n",
    "headers = {\n",
    "    'User-Agent': 'Mozilla/5.0 (Windows NT 10.0; Win64; x64) AppleWebKit/537.36 (KHTML, like Gecko) Chrome/99.0.9999.999 Safari/537.36',\n",
    "    'Referer': 'https://example.com'\n",
    "}\n",
    "\n",
    "# Function to extract HTML content from a webpage\n",
    "\n",
    "def extract_html_from_doc(url, category):\n",
    "    try:\n",
    "        # Sending HTTP request to the URL with custom headers\n",
    "        response = requests.get(url, headers=headers)\n",
    "        content_data = {}\n",
    "         \n",
    "        # Parsing the HTML response using BeautifulSoup\n",
    "        soup = BeautifulSoup(response.text, 'html.parser')\n",
    "        \n",
    "        # Removing HTML comments from the parsed HTML content\n",
    "        clean_soup = get_cleaned_html(soup)\n",
    "        \n",
    "        # Checking if the length of the HTML content is greater than 10,000 characters\n",
    "        \n",
    "        if len(soup.prettify())>10000:\n",
    "            language, _ = langid.classify(clean_soup.get_text())\n",
    "\n",
    "            # Proceeding only if the language is identified as English\n",
    "            if language == 'en':\n",
    "\n",
    "                # Extracting style tags and title from the HTML content\n",
    "                style_tags = soup.find_all('style')\n",
    "                title = soup.title.text.strip()\n",
    "\n",
    "                # Proceeding only if style tags and title are present\n",
    "                if len(style_tags)>0 and title:\n",
    "                    content_data['prompt'] = \"create a \" + category + \" website for \" + title\n",
    "                    content_data['output'] = soup.prettify().replace('\\n', '')\n",
    "                    return content_data\n",
    "    except:\n",
    "        return None\n",
    "\n",
    "\n",
    "# Function to remove HTML comments from parsed HTML content\n",
    "\n",
    "def get_cleaned_html(soup):\n",
    "    comments = soup.find_all(string=lambda string: isinstance(string, Comment))\n",
    "    for comment in comments:\n",
    "        comment.extract()\n",
    "    return soup"
   ]
  },
  {
   "cell_type": "code",
   "execution_count": 20,
   "id": "3564260d-3912-40e6-9bd1-556238291782",
   "metadata": {},
   "outputs": [
    {
     "data": {
      "text/html": [
       "<div>\n",
       "<style scoped>\n",
       "    .dataframe tbody tr th:only-of-type {\n",
       "        vertical-align: middle;\n",
       "    }\n",
       "\n",
       "    .dataframe tbody tr th {\n",
       "        vertical-align: top;\n",
       "    }\n",
       "\n",
       "    .dataframe thead th {\n",
       "        text-align: right;\n",
       "    }\n",
       "</style>\n",
       "<table border=\"1\" class=\"dataframe\">\n",
       "  <thead>\n",
       "    <tr style=\"text-align: right;\">\n",
       "      <th></th>\n",
       "      <th>1</th>\n",
       "      <th>URL</th>\n",
       "      <th>category</th>\n",
       "    </tr>\n",
       "  </thead>\n",
       "  <tbody>\n",
       "    <tr>\n",
       "      <th>35324</th>\n",
       "      <td>35326</td>\n",
       "      <td>http://www.awn.com</td>\n",
       "      <td>Arts</td>\n",
       "    </tr>\n",
       "    <tr>\n",
       "      <th>35325</th>\n",
       "      <td>35327</td>\n",
       "      <td>http://animation.about.com/</td>\n",
       "      <td>Arts</td>\n",
       "    </tr>\n",
       "    <tr>\n",
       "      <th>35326</th>\n",
       "      <td>35328</td>\n",
       "      <td>http://www.toonhound.com</td>\n",
       "      <td>Arts</td>\n",
       "    </tr>\n",
       "    <tr>\n",
       "      <th>35327</th>\n",
       "      <td>35329</td>\n",
       "      <td>http://www.geocities.com/d-patanella/</td>\n",
       "      <td>Arts</td>\n",
       "    </tr>\n",
       "    <tr>\n",
       "      <th>35328</th>\n",
       "      <td>35330</td>\n",
       "      <td>http://enculturation.gmu.edu/2_1/pisters.html</td>\n",
       "      <td>Arts</td>\n",
       "    </tr>\n",
       "  </tbody>\n",
       "</table>\n",
       "</div>"
      ],
      "text/plain": [
       "           1                                            URL category\n",
       "35324  35326                             http://www.awn.com     Arts\n",
       "35325  35327                    http://animation.about.com/     Arts\n",
       "35326  35328                       http://www.toonhound.com     Arts\n",
       "35327  35329          http://www.geocities.com/d-patanella/     Arts\n",
       "35328  35330  http://enculturation.gmu.edu/2_1/pisters.html     Arts"
      ]
     },
     "execution_count": 20,
     "metadata": {},
     "output_type": "execute_result"
    }
   ],
   "source": [
    "df.head()"
   ]
  },
  {
   "cell_type": "code",
   "execution_count": 21,
   "id": "0500f622-7b8e-4ef5-b405-ce8a3400c415",
   "metadata": {},
   "outputs": [],
   "source": [
    "# Function to concurrently extract data from multiple URLs\n",
    "\n",
    "def getData(df, num, f):\n",
    "    output_data = []\n",
    "    for d in range(num,num+1000):\n",
    "        url = df.iloc[d]['URL']\n",
    "        category = df.iloc[d]['category']\n",
    "        output = extract_html_from_doc(url, category)\n",
    "        if output != None:\n",
    "            output_data.append(output)\n",
    "\n",
    "        # Printing progress for every 25 URLs processed\n",
    "        if d%25 == 0:\n",
    "            print(d)\n",
    "        json_data = json.dumps(output_data, indent=4)\n",
    "        \n",
    "    # Writing extracted data to a JSON file\n",
    "    with open('data'+f+'.json', 'w') as json_file:\n",
    "        json_file.write(json_data)\n"
   ]
  },
  {
   "cell_type": "code",
   "execution_count": 22,
   "id": "d5d4a709-ac44-44e1-9dd8-2365207d95aa",
   "metadata": {},
   "outputs": [],
   "source": [
    "# Creating threads for concurrent execution of data extraction tasks\n",
    "\n",
    "t1 = threading.Thread(target=getData, args=(df,1000000,\"1\",))\n",
    "t2 = threading.Thread(target=getData, args=(df,1001000,\"2\",))\n",
    "t3 = threading.Thread(target=getData, args=(df,1002000,\"3\",))\n",
    "t4 = threading.Thread(target=getData, args=(df,1003000,\"4\",))\n",
    "t5 = threading.Thread(target=getData, args=(df,1004000,\"5\",))"
   ]
  },
  {
   "cell_type": "code",
   "execution_count": 23,
   "id": "39501cdb",
   "metadata": {},
   "outputs": [],
   "source": [
    "# Starting the threads for concurrent execution\n",
    "\n",
    "t1.start()\n",
    "t2.start()\n",
    "t3.start()\n",
    "t4.start()\n",
    "t5.start()"
   ]
  }
 ],
 "metadata": {
  "kernelspec": {
   "display_name": "Python 3 (ipykernel)",
   "language": "python",
   "name": "python3"
  },
  "language_info": {
   "codemirror_mode": {
    "name": "ipython",
    "version": 3
   },
   "file_extension": ".py",
   "mimetype": "text/x-python",
   "name": "python",
   "nbconvert_exporter": "python",
   "pygments_lexer": "ipython3",
   "version": "3.11.8"
  }
 },
 "nbformat": 4,
 "nbformat_minor": 5
}
